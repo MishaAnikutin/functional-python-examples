{
 "cells": [
  {
   "cell_type": "markdown",
   "id": "acd161e0-ae03-4e17-8b86-6b3a842b19d7",
   "metadata": {},
   "source": [
    "# Композиция функций\n"
   ]
  },
  {
   "cell_type": "markdown",
   "id": "2f4c903e-32a9-43d5-9ab2-e855ec2f9d35",
   "metadata": {},
   "source": [
    "Из курса математического анализа мы знаем оператор композиции функций\n",
    "\n",
    "$$\n",
    "f : X \\rightarrow Y \n",
    "$$\n",
    "$$\n",
    "g: Y \\rightarrow Z \n",
    "$$\n",
    "$$ \n",
    "(f \\circ g) (x) = f(g(x))\n",
    "$$\n",
    "\n",
    "И мы можем перенять этот подход, когда разрабатываем логику приложения, последовательно применяя функции\n",
    "\n",
    "_Кстати в чисто функциональном языке `Haskell` оператором композиции функции является как раз точка `.` , из-за чего синтаксис выглядит очень математическим_"
   ]
  },
  {
   "cell_type": "markdown",
   "id": "f64b974f-0699-444f-98de-cb4b7546ddc1",
   "metadata": {},
   "source": [
    "__Посмотрим на композицию функций в Python, какие сложности и возможности с ним возникают__\n",
    "\n",
    "## Выведим в консоль квадраты первых 10 целых чисел\n",
    "\n",
    "Для примера посмотрим на решение такой задачи"
   ]
  },
  {
   "cell_type": "code",
   "execution_count": 148,
   "id": "60b2aa73-9cae-4753-a212-52c11ffd8338",
   "metadata": {},
   "outputs": [
    {
     "name": "stdout",
     "output_type": "stream",
     "text": [
      "0 1 4 9 16 25 36 49 64 81\n"
     ]
    }
   ],
   "source": [
    "print(                      # Вывести \n",
    "    *map(lambda x: x ** 2,  # Квадраты\n",
    "         range(10)))        # Первых 10 целых чисел"
   ]
  },
  {
   "cell_type": "markdown",
   "id": "82d54ae1-ab0c-4c62-a3f1-afe2692a32ab",
   "metadata": {},
   "source": [
    "Однако такой синтаксис имеет большую вложенность, а также функции применяются изнутри (в начале `range`, потом `square` и в конце `print`), что часто неудобно и не так читаемо\n",
    "\n",
    "При большом количестве функций часто удобнее просто создавать каждый раз новую переменную на каждом этапе"
   ]
  },
  {
   "cell_type": "code",
   "execution_count": 58,
   "id": "cc74fe63-5ad0-48d6-b4c1-87b15dd1faa0",
   "metadata": {},
   "outputs": [
    {
     "name": "stdout",
     "output_type": "stream",
     "text": [
      "0 1 4 9 16 25 36 49 64 81\n"
     ]
    }
   ],
   "source": [
    "first_10_z = range(10)\n",
    "squared_numbers = map(lambda x: x ** 2, first_10_z)\n",
    "\n",
    "print(*squared_numbers)"
   ]
  },
  {
   "cell_type": "markdown",
   "id": "04174522-868a-4366-a730-49094f7c87b9",
   "metadata": {},
   "source": [
    "Но и такой стиль нравится не всем, выходит больше символов, а придумать названия переменных достаточно сложный и важный процесс (как мы помним из [Clean Code](https://inprogrammer.com/wp-content/uploads/2022/01/Martin-Robert-Cecil-Clean-code_-a-handbook-of-agile-software-craftsmanship-2009-Prentice-Hall-libgen.lc_.pdf) от Роберта Мартина)"
   ]
  },
  {
   "cell_type": "markdown",
   "id": "e271297d-155e-47ea-8db6-20a144173fca",
   "metadata": {},
   "source": [
    "## Как быть?\n",
    "\n",
    "Можно реализовать функцию `compose`, которая принимает на вход функции, которые нужно композировать и возвращает функцию их композиции"
   ]
  },
  {
   "cell_type": "code",
   "execution_count": 18,
   "id": "876b357e-62f2-4627-8ef6-a1cad9f0b167",
   "metadata": {},
   "outputs": [],
   "source": [
    "from typing import Callable"
   ]
  },
  {
   "cell_type": "markdown",
   "id": "fa5e4099-24ef-45d8-9fcd-3264699d7f1c",
   "metadata": {},
   "source": [
    "функция compose - __Функция высшего порядка__. Она принимает функцию как аргумент и возвращает новую функцию"
   ]
  },
  {
   "cell_type": "code",
   "execution_count": 67,
   "id": "ee8b1b46-f709-4775-87db-15164342c166",
   "metadata": {},
   "outputs": [],
   "source": [
    "def compose(*functions: Callable) -> Callable:\n",
    "    \n",
    "    # Создадим функцию из композиции всех функций\n",
    "    def wrapper(*args, **kwargs):\n",
    "\n",
    "        # Последовательно применим функции друг к другу\n",
    "        result = functions[-1](*args, **kwargs)\n",
    "        for function in reversed(functions[:-1]):\n",
    "            result = function(result)\n",
    "\n",
    "        # Вернем результат\n",
    "        return result\n",
    "\n",
    "    # Вернем их композицию\n",
    "    return wrapper    "
   ]
  },
  {
   "cell_type": "markdown",
   "id": "b812eec3-07a0-4623-a2b9-c75847fdf5ec",
   "metadata": {},
   "source": [
    "### Чем это нам поможет?\n",
    "\n",
    "Теперь мы сможем более красиво композировать функции"
   ]
  },
  {
   "cell_type": "code",
   "execution_count": 70,
   "id": "d5c2614a-4755-4b69-bfab-c518f9d3ebe9",
   "metadata": {},
   "outputs": [],
   "source": [
    "# За место map\n",
    "square = lambda seq: [el * el for el in seq]"
   ]
  },
  {
   "cell_type": "code",
   "execution_count": 68,
   "id": "cd58b364-c2e8-493f-a85d-7aed08a11c90",
   "metadata": {},
   "outputs": [
    {
     "name": "stdout",
     "output_type": "stream",
     "text": [
      "[0, 1, 4, 9, 16, 25, 36, 49, 64, 81]\n"
     ]
    }
   ],
   "source": [
    "compose(\n",
    "    print,   # Вывести\n",
    "    square,  # Квадраты\n",
    "    range    # Первых n целых чисел\n",
    ")(10)"
   ]
  },
  {
   "cell_type": "markdown",
   "id": "b68ff015-4348-4855-adff-3ff2d8093260",
   "metadata": {},
   "source": [
    "Получили тот же результат, как при обычной композиции, однако в более читаемой форме\n",
    "\n",
    "В таком решении есть своя красота, однако так мало кто делает, т.к. решение требует задействовать дополнительную функцию `compose` и остается проблема того, что нужно читать код с конца"
   ]
  },
  {
   "cell_type": "code",
   "execution_count": 147,
   "id": "0c80f964-8dde-4d1d-8717-8230e9db0835",
   "metadata": {},
   "outputs": [
    {
     "name": "stdout",
     "output_type": "stream",
     "text": [
      "[0, 1, 4, 9, 16, 25, 36, 49, 64, 81]\n"
     ]
    }
   ],
   "source": [
    "result = list()\n",
    "\n",
    "for n in range(10):\n",
    "    result.append(n ** 2)\n",
    "\n",
    "print(result)"
   ]
  },
  {
   "cell_type": "markdown",
   "id": "e562f42f-590f-41b2-87c0-07cd45cc98dc",
   "metadata": {},
   "source": [
    "\n",
    "### Чтение кода с конца\n",
    "\n",
    "На самом деле такой подход даже кому то нравится, т.к. его часто проще перевести на естественный язык. Например `LISP`-подобные языки, такие как `Clojure`, полностью построены в таком стиле"
   ]
  },
  {
   "cell_type": "markdown",
   "id": "741cb7a7-759b-462c-b6e6-d95c1ba53d34",
   "metadata": {},
   "source": [
    "Взглянем на аналогичный код на `Clojure`\n",
    "\n",
    "```clojure\n",
    "(println (take 10 (map (fn [x] (* x x)) (range))))\n",
    "```"
   ]
  },
  {
   "cell_type": "markdown",
   "id": "1b9dca1d-5bbd-40f7-82d1-c6c86d9b9a19",
   "metadata": {},
   "source": [
    "Для неподготовленного читателя кажется очень непонятно, но с комментариями становится яснее\n",
    "\n",
    "```clojure\n",
    "(println                   ;; Вывести\n",
    "  (take 10                 ;; Первые 10\n",
    "    (map (fn [x] (* x x))  ;; Квадратов\n",
    "      (range))))           ;; Целых чисел\n",
    " ```\n",
    "\n",
    "_Решение права может напугать переменной `range` с бесконечным числом целых чисел_"
   ]
  },
  {
   "cell_type": "markdown",
   "id": "eeab2566-6214-4f67-a2ab-659b0f46f16b",
   "metadata": {},
   "source": [
    "Но такой стиль заходит не всем, хоть и имеет свои плюсы (например так проще удалять скобки внутренних кусков кода)"
   ]
  },
  {
   "cell_type": "markdown",
   "id": "2f1384c4-06f4-45b4-bbe5-af231ab8d276",
   "metadata": {},
   "source": [
    "# Цепочки вызовов и pipe-оператор\n",
    "\n",
    "Есть более читаемый вариант последовательного применения функций, например __паттерн цепочек вызовов__ (Function Chaining Pattern). Это паттерн для последовательного декларативного вызова функций\n",
    "\n",
    "Этот паттерн очень распространен в таких языках, как `Rust`, `JavaScript` и `Haskell`"
   ]
  },
  {
   "cell_type": "markdown",
   "id": "4e7e942e-e770-4577-94e9-8bb1fbbc3c75",
   "metadata": {},
   "source": [
    "## Как сделано в Python?\n",
    "В стандартном `Python` есть некоторые классы, для которых определены методы так, чтобы можно было создавать из них цепочки вызовов методов, например класс `str`, однако не для всех :("
   ]
  },
  {
   "cell_type": "code",
   "execution_count": 75,
   "id": "9bcaadac-ee64-42b1-a072-f4a794dbeb9a",
   "metadata": {},
   "outputs": [
    {
     "data": {
      "text/plain": [
       "'Как же я люблю фп'"
      ]
     },
     "execution_count": 75,
     "metadata": {},
     "output_type": "execute_result"
    }
   ],
   "source": [
    "text = \" Как же я люблю fghj \"\n",
    "\n",
    "text.strip().capitalize().replace(\"fghj\", \"фп\")"
   ]
  },
  {
   "cell_type": "markdown",
   "id": "38a39d79-fbf1-4160-af38-89e0b7008913",
   "metadata": {},
   "source": [
    "Или более читаемый вариант:"
   ]
  },
  {
   "cell_type": "code",
   "execution_count": 76,
   "id": "cb28b583-6d1c-48bb-9904-5f854b188af8",
   "metadata": {},
   "outputs": [
    {
     "data": {
      "text/plain": [
       "'Как же я люблю фп'"
      ]
     },
     "execution_count": 76,
     "metadata": {},
     "output_type": "execute_result"
    }
   ],
   "source": [
    "(text\n",
    " .strip()\n",
    " .capitalize()\n",
    " .replace(\"fghj\", \"фп\"))"
   ]
  },
  {
   "cell_type": "markdown",
   "id": "e955d81f-5f64-4fa4-a02a-170fb76982b5",
   "metadata": {},
   "source": [
    "В таком случае мы видим последовательно какие функции (методы) применяются к нашему обьекту: в начале `strip()`, далее `capitalize()` и в конце `.replace(\"fghj\", \"фп\")`"
   ]
  },
  {
   "cell_type": "markdown",
   "id": "86a393d2-bfe8-429d-8a0e-b42324ee89fe",
   "metadata": {},
   "source": [
    "### Как реализовать этот паттерн в своем классе?\n",
    "\n",
    "На самом деле не сложно. Достаточно возвращать новый обьект этого же класса в каждом методе\n",
    "\n",
    "Данный паттерн позволяет хорошо инкапсулировать логику обьекта, делает его иммутабельным и создает декларативный API для работы с ним\n",
    "\n",
    "Создадим искусственный пример с классом последовательности `Seq`"
   ]
  },
  {
   "cell_type": "code",
   "execution_count": 144,
   "id": "682c7df2-a48e-400d-b6e8-49301f6ce112",
   "metadata": {},
   "outputs": [],
   "source": [
    "class Seq:\n",
    "    def __init__(self, data):\n",
    "        self._data = data\n",
    "\n",
    "    def map(self, func: Callable): return Seq(map(func, self._data))\n",
    "\n",
    "    def filter(self, func: Callable): return Seq(filter(func, self._data))\n",
    "\n",
    "    # Применить все функции и вернуть данные\n",
    "    def join(self) -> list: return list(self._data)"
   ]
  },
  {
   "cell_type": "code",
   "execution_count": 143,
   "id": "d582e40d-cc5f-4efa-9e09-d8edc5d428a1",
   "metadata": {},
   "outputs": [
    {
     "data": {
      "text/plain": [
       "['rapid', 'octavia']"
      ]
     },
     "execution_count": 143,
     "metadata": {},
     "output_type": "execute_result"
    }
   ],
   "source": [
    "cars = Seq([\n",
    "    {'model': 'rapid', 'year': 2016},\n",
    "    {'model': 'rio', 'year': 2013},\n",
    "    {'model': 'mondeo', 'year': 2011},\n",
    "    {'model': 'octavia', 'year': 2014}\n",
    "])\n",
    "\n",
    "\n",
    "(cars\n",
    " .filter(lambda car: car['year'] > 2013)\n",
    " .map(lambda car: car['model'])\n",
    " .join())"
   ]
  },
  {
   "cell_type": "markdown",
   "id": "f94782c3-9221-430e-ad8e-9a02a638967f",
   "metadata": {},
   "source": [
    "Chaining является декларативным способом описания бизнес логики, что часто является лучшей практикой по сравнению с императивным кодом\n",
    "\n",
    "Также есть мнение, что если вы не можете описать ваш алгоритм в виде такой цепочки вызовов, то у вас плохой дизайн кода"
   ]
  },
  {
   "cell_type": "markdown",
   "id": "dd4ca71c-5af6-482c-a349-cd2d96530c21",
   "metadata": {},
   "source": [
    "В `Python` к сожалению API для работы с последовательностями (списками и кортежами) имеет `LISP`-подобный стиль, из-за чего комьюнити реализовали библиотеки с этим паттерном для работы с данными в виде последовательностей, рассмотрим популярные из них"
   ]
  },
  {
   "cell_type": "markdown",
   "id": "0b4abdd2-a035-4f10-a3c1-01d543243301",
   "metadata": {},
   "source": [
    "## Pandas\n",
    "\n",
    "`pandas` скорее всего самая популярная библиотека в Python для работы с табличными данными. Он имеет множество функциональных техник, и chaining функций не исключение. Цепочки вызовов в `pandas` хорошо реализованы и постоянно используются комьюнити\n",
    "\n",
    "_Если вы хорошо знакомы с pandas, то советую почитать статью [с продвинутыми техниками цепочек вызовов](https://habr.com/ru/articles/722170/)_"
   ]
  },
  {
   "cell_type": "code",
   "execution_count": 84,
   "id": "4992848b-b048-44c5-9942-2e2dabc0ef06",
   "metadata": {},
   "outputs": [],
   "source": [
    "import pandas as pd"
   ]
  },
  {
   "cell_type": "markdown",
   "id": "5136e76b-d966-40cf-83f6-d1f4d18ef19e",
   "metadata": {},
   "source": [
    "Мы можем красиво и декларативно решить нашу задачу используя цепочки вызовов"
   ]
  },
  {
   "cell_type": "code",
   "execution_count": 89,
   "id": "0dfbf93c-1a9b-4ebe-bf8b-45908ea8743c",
   "metadata": {},
   "outputs": [
    {
     "data": {
      "text/plain": [
       "[0, 1, 4, 9, 16, 25, 36, 49, 64, 81]"
      ]
     },
     "execution_count": 89,
     "metadata": {},
     "output_type": "execute_result"
    }
   ],
   "source": [
    "df = pd.DataFrame({'numbers': range(25)})\n",
    "\n",
    "(df\n",
    " .numbers\n",
    " .apply(lambda x: x ** 2)\n",
    " .head(10)\n",
    " .to_list())"
   ]
  },
  {
   "cell_type": "markdown",
   "id": "8a7b374a-5333-407e-8419-471594e750bd",
   "metadata": {},
   "source": [
    "Но и более интересные и сложные задачи с реальными данными. Например визуализируем топ 5 стран по экспорту нефти и нефтепродуктов, а также посчитаем их суммарный экспорт"
   ]
  },
  {
   "cell_type": "code",
   "execution_count": 317,
   "id": "8c671357-903f-44c4-bff7-dca2da7f51ef",
   "metadata": {},
   "outputs": [
    {
     "data": {
      "text/plain": [
       "<Axes: xlabel='Country'>"
      ]
     },
     "execution_count": 317,
     "metadata": {},
     "output_type": "execute_result"
    },
    {
     "data": {
      "image/png": "[encoded data removed]",
      "text/plain": [
       "<Figure size 640x480 with 1 Axes>"
      ]
     },
     "metadata": {},
     "output_type": "display_data"
    }
   ],
   "source": [
    "(pd.read_csv('Comtrade Data.csv', index_col='Unnamed: 0') # Открываем таблицу\n",
    "    .drop_duplicates(subset=['Country'])                  # Удаляем повторы\n",
    "    .sort_values(by='primaryValue', ascending=False)      # Сотрируем по обьему экспорта \n",
    "    .drop(columns=['netWgt', 'flowCode'])                 # Удаляем лишние столбцы\n",
    "    .head(5)                                              # Возвращаем топ 5\n",
    "    .plot.bar(x='Country', y='primaryValue'))             # Строим график              "
   ]
  },
  {
   "cell_type": "markdown",
   "id": "2e904539-70a9-45f8-8133-acbbff41b03c",
   "metadata": {},
   "source": [
    "Остановим наш обзор библиотек для работы с данными на `pandas`, потому что все `pyspark`, `polars`, `SQLAlchemy` ... реализуют схожие интерфейсы и нужны для схожих задач"
   ]
  },
  {
   "cell_type": "markdown",
   "id": "6c114654-bc76-4ecc-bf15-05bd5f7fa82e",
   "metadata": {},
   "source": [
    "## PyFunctional\n",
    "\n",
    "[Функциональная библиотека](https://github.com/EntilZha/PyFunctional) для работы с контейнерами данных. Вдохновлена языком `Scala`, добавляет в язык обьект `seq` - прямо как тот что мы сделали, но с более обширним API, ленивым выполнением и поддержкой параллелизма\n",
    "\n",
    "_ну прям ФП!_\n",
    "\n",
    "например помимо стандартного интерфейса для эндофунктора, обьект seq имеет методы `groupby` И `join`"
   ]
  },
  {
   "cell_type": "code",
   "execution_count": null,
   "id": "3aa2a25d-2aca-4427-90b7-1dea0ce5fe44",
   "metadata": {},
   "outputs": [],
   "source": [
    "!pip install pyfunctional"
   ]
  },
  {
   "cell_type": "code",
   "execution_count": 243,
   "id": "a77325fd-2bde-447b-b61c-74e5bf08a72f",
   "metadata": {},
   "outputs": [],
   "source": [
    "from functional import seq"
   ]
  },
  {
   "cell_type": "markdown",
   "id": "e2fffad9-bb4d-471d-8f09-86877cc6e473",
   "metadata": {},
   "source": [
    "Решим нашу задачу"
   ]
  },
  {
   "cell_type": "code",
   "execution_count": 306,
   "id": "8f24a4f4-e0c0-4b20-8120-6acf809c338b",
   "metadata": {},
   "outputs": [
    {
     "data": {
      "text/plain": [
       "[0, 1, 4, 9, 16, 25, 36, 49, 64, 81]"
      ]
     },
     "execution_count": 306,
     "metadata": {},
     "output_type": "execute_result"
    }
   ],
   "source": [
    "seq(range(10)).map(lambda x: x ** 2)"
   ]
  },
  {
   "cell_type": "markdown",
   "id": "87583136-84b6-4c63-b80f-73d7994e1e6d",
   "metadata": {},
   "source": [
    "Самое кратенькое решение пока что"
   ]
  },
  {
   "cell_type": "markdown",
   "id": "08868f49-7746-40d6-a528-91662a4e331c",
   "metadata": {},
   "source": [
    "#### Интеграция с Pandas\n",
    "\n",
    "а также эта библиотека имеет интеграцию с `pandas`, обьект seq должен уметь строить датафрейм на основе pandas.DataFrame, но делает это очень плохо. Однако, я нашел костыльный способ"
   ]
  },
  {
   "cell_type": "code",
   "execution_count": 268,
   "id": "eb45c80e-b7ba-4b5d-8670-c08b1a866d1e",
   "metadata": {},
   "outputs": [],
   "source": [
    "from collections import namedtuple"
   ]
  },
  {
   "cell_type": "code",
   "execution_count": 304,
   "id": "4ab15578-c962-409c-942a-55fbbfd78b43",
   "metadata": {},
   "outputs": [],
   "source": [
    "Row = namedtuple(\n",
    "    'Row',\n",
    "    ['reporterCode', 'primaryValue', 'netWgt', 'flowCode']\n",
    ")\n",
    "\n",
    "seq_df = seq(\n",
    "    [Row(\n",
    "        row[1].reporterCode,\n",
    "        row[1].primaryValue,\n",
    "        row[1].netWgt,\n",
    "        row[1].flowCode\n",
    "    ) \n",
    "     for row in df.iterrows()]\n",
    ")"
   ]
  },
  {
   "cell_type": "markdown",
   "id": "3dac6c9a-6c77-4692-b8be-2ec767d062fd",
   "metadata": {},
   "source": [
    "Посмотрим топ 5 стран по обьему экспорта нефти и нефтепродуктов"
   ]
  },
  {
   "cell_type": "code",
   "execution_count": 303,
   "id": "4c93586a-dfee-4a08-b1c8-5c5cc8d5f382",
   "metadata": {},
   "outputs": [
    {
     "data": {
      "text/html": [
       "<table>\n",
       "<thead>\n",
       "<tr><th>reporterCode        </th><th style=\"text-align: right;\">  primaryValue</th><th style=\"text-align: right;\">     netWgt</th><th>flowCode  </th></tr>\n",
       "</thead>\n",
       "<tbody>\n",
       "<tr><td>United Arab Emirates</td><td style=\"text-align: right;\">   1.27284e+11</td><td style=\"text-align: right;\">2.7173e+11 </td><td>X         </td></tr>\n",
       "<tr><td>Russian Federation  </td><td style=\"text-align: right;\">   1.22229e+11</td><td style=\"text-align: right;\">2.69175e+11</td><td>X         </td></tr>\n",
       "<tr><td>Canada              </td><td style=\"text-align: right;\">   6.81009e+10</td><td style=\"text-align: right;\">1.45386e+11</td><td>X         </td></tr>\n",
       "<tr><td>USA                 </td><td style=\"text-align: right;\">   6.53232e+10</td><td style=\"text-align: right;\">1.39456e+11</td><td>X         </td></tr>\n",
       "<tr><td>Canada              </td><td style=\"text-align: right;\">   5.64311e+10</td><td style=\"text-align: right;\">1.20472e+11</td><td>X         </td></tr>\n",
       "</tbody>\n",
       "</table>"
      ],
      "text/plain": [
       "[Row(reporterCode='United Arab Emirates', primaryValue=127284293029.93, netWgt=271730227836.43, flowCode='X'), Row(reporterCode='Russian Federation', primaryValue=122228578653.3, netWgt=269175244771.0, flowCode='X'), Row(reporterCode='Canada', primaryValue=68100946475.118, netWgt=145386082443.058, flowCode='X'), Row(reporterCode='USA', primaryValue=65323191031.0, netWgt=139455959545.975, flowCode='X'), Row(reporterCode='Canada', primaryValue=56431061272.329, netWgt=120472494893.823, flowCode='X')]"
      ]
     },
     "execution_count": 303,
     "metadata": {},
     "output_type": "execute_result"
    }
   ],
   "source": [
    "(seq_df\n",
    " .sorted(key=lambda row: row.primaryValue, reverse=True)\n",
    " .take(5))"
   ]
  },
  {
   "cell_type": "markdown",
   "id": "694fd8ae-688d-40a6-a00c-7362d5e75510",
   "metadata": {},
   "source": [
    "Не хватает конечно функционала пока что для работы с данными как в Pandas)"
   ]
  },
  {
   "cell_type": "markdown",
   "id": "e23a2c19-5ac2-4d85-9155-3a40ba7113ea",
   "metadata": {},
   "source": [
    "# Pipe-оператор\n",
    "\n",
    "Другой способ создания __конвейера__ вызовов является pipe-оператор (обычно `|>`, но может быть `|`)\n",
    "\n",
    "Он берет все данные которые в него пришли и передает в следующую функцию\n",
    "\n",
    "Этот оператор существует в множестве языков, таких как `Elixir`, `F#`, `OCaml`, даже в `Bash` и ВНИМАНИЕ !!! `R`\n",
    "\n",
    "Рассмотрим например его синтаксис в `F#`:\n",
    "\n",
    "```f#\n",
    "[1 .. 10]\n",
    "|> List.map (fun x -> x * x)\n",
    "|> List.iter (printfn \"%d\")\n",
    "\n",
    "```\n",
    "\n",
    "Достаточно декларативно и чисто, а оператор `|>` будто бы явно указывает, что данные передаваемые из предыдущей функции передаются в следующую"
   ]
  },
  {
   "cell_type": "markdown",
   "id": "106aedcf-7534-4be3-ab5a-15cbb536743c",
   "metadata": {},
   "source": [
    "### Как это сделано в Python?\n",
    "\n",
    "Есть библиотека [pipe](https://github.com/JulienPalard/Pipe)!"
   ]
  },
  {
   "cell_type": "code",
   "execution_count": 223,
   "id": "bf0e3575-8d50-482d-b976-99d636ebfbbd",
   "metadata": {},
   "outputs": [],
   "source": [
    "from pipe import select, take, Pipe"
   ]
  },
  {
   "cell_type": "code",
   "execution_count": 228,
   "id": "811fbcb7-8821-4c9b-a982-364743cc1184",
   "metadata": {},
   "outputs": [
    {
     "name": "stdout",
     "output_type": "stream",
     "text": [
      "0 1 4 9 16 25 36 49 64 81\n"
     ]
    }
   ],
   "source": [
    "println = Pipe(lambda x: print(*x))\n",
    "\n",
    "(range(10)\n",
    " | select(lambda x: x ** 2) \n",
    " | println)"
   ]
  },
  {
   "cell_type": "markdown",
   "id": "8fe3ce0c-685e-4c6c-a702-f4a79db18325",
   "metadata": {},
   "source": [
    "Из плюсов - красивый и удобный API, множество удобных встроенных функций, возможность добавлять свои функции"
   ]
  },
  {
   "cell_type": "code",
   "execution_count": 216,
   "id": "1a8bbc70-9cc6-42fc-9878-8f841c0fd0b7",
   "metadata": {},
   "outputs": [],
   "source": [
    "@Pipe\n",
    "def my_function(iterable):\n",
    "    print('Я в пайплайне!')\n",
    "    return iterable"
   ]
  },
  {
   "cell_type": "markdown",
   "id": "22841cf2-a4cd-420b-a064-3c9b225b23b7",
   "metadata": {},
   "source": [
    "И аналогично встраивать без каких либо проблем"
   ]
  },
  {
   "cell_type": "code",
   "execution_count": 242,
   "id": "fe161eb7-9a0d-4088-9790-ad122dea06bf",
   "metadata": {},
   "outputs": [
    {
     "name": "stdout",
     "output_type": "stream",
     "text": [
      "Я в пайплайне!\n",
      "0 1 4 9 16 25 36 49 64 81\n"
     ]
    }
   ],
   "source": [
    "(range(10)\n",
    " | select(lambda x: x ** 2)\n",
    " | my_function\n",
    " | println)"
   ]
  }
 ],
 "metadata": {
  "kernelspec": {
   "display_name": "Python 3 (ipykernel)",
   "language": "python",
   "name": "python3"
  },
  "language_info": {
   "codemirror_mode": {
    "name": "ipython",
    "version": 3
   },
   "file_extension": ".py",
   "mimetype": "text/x-python",
   "name": "python",
   "nbconvert_exporter": "python",
   "pygments_lexer": "ipython3",
   "version": "3.11.8"
  }
 },
 "nbformat": 4,
 "nbformat_minor": 5
}
